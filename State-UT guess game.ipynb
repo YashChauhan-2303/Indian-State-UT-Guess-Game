{
 "cells": [
  {
   "cell_type": "code",
   "execution_count": 1,
   "id": "84417962-70f6-4890-92b8-d4ef0f63f4ae",
   "metadata": {},
   "outputs": [],
   "source": [
    "import turtle\n",
    "import pandas as pd\n",
    "\n",
    "screen = turtle.Screen()\n",
    "screen.title(\"INDIA STATE GUESS GAME\")\n",
    "image = \"map.gif\"\n",
    "screen.addshape(image)\n",
    "turtle.shape(image)\n",
    "\n",
    "# def get_mouse_click_coor(x,y):\n",
    "#     print(x,y)\n",
    "#\n",
    "# turtle.onscreenclick(get_mouse_click_coor)\n",
    "# turtle.mainloop()\n",
    "\n",
    "data = pd.read_csv(\"states.csv\")\n",
    "all_states = data[\"state\"].to_list()\n",
    "guessed_State = []\n",
    "\n",
    "while len(guessed_State)<36:\n",
    "    answer_state = screen.textinput(title=f\"{len(guessed_State)}/36 States Correct\",\n",
    "                                    prompt=\"what's another name? Type Exit to stop\").title()\n",
    "    if answer_state == \"Exit\":\n",
    "        missing_states = []\n",
    "        for i in  all_states:\n",
    "            if i not in guessed_State:\n",
    "                missing_states.append(i)\n",
    "        new_data = pd.DataFrame(missing_states, columns=[\"state\"])\n",
    "        new_data.to_csv(\"States_to_learn.csv\")\n",
    "        break\n",
    "    if answer_state in all_states and answer_state not in guessed_State:\n",
    "        guessed_State.append(answer_state)\n",
    "        t = turtle.Turtle()\n",
    "        t.hideturtle()\n",
    "        t.penup()\n",
    "        state_data = data[data[\"state\"]==answer_state].iloc[0]\n",
    "        t.goto(state_data.x,state_data.y)\n",
    "        t.write(state_data.state)\n",
    "\n",
    "\n",
    "\n",
    "screen.exitonclick()\n"
   ]
  },
  {
   "cell_type": "code",
   "execution_count": null,
   "id": "7cfbe001-4a83-445d-a031-1e9fff9c850e",
   "metadata": {},
   "outputs": [],
   "source": []
  }
 ],
 "metadata": {
  "kernelspec": {
   "display_name": "Python 3 (ipykernel)",
   "language": "python",
   "name": "python3"
  },
  "language_info": {
   "codemirror_mode": {
    "name": "ipython",
    "version": 3
   },
   "file_extension": ".py",
   "mimetype": "text/x-python",
   "name": "python",
   "nbconvert_exporter": "python",
   "pygments_lexer": "ipython3",
   "version": "3.12.4"
  }
 },
 "nbformat": 4,
 "nbformat_minor": 5
}
